{
 "cells": [
  {
   "cell_type": "code",
   "execution_count": 45,
   "id": "2a95802a-d432-4082-81d4-a0e825609c55",
   "metadata": {},
   "outputs": [],
   "source": [
    "#Import Libirares \n",
    "import os, csv\n",
    "from pathlib import Path"
   ]
  },
  {
   "cell_type": "code",
   "execution_count": 46,
   "id": "0192cbd2-0817-41d7-93d0-0946c552ee4e",
   "metadata": {},
   "outputs": [],
   "source": [
    "#Load path and load budget_data\n",
    "input_file = Path(\"budget_data.csv\")"
   ]
  },
  {
   "cell_type": "code",
   "execution_count": 47,
   "id": "8c80d8d4-a497-4f70-bfd4-da3b0d5dc2d8",
   "metadata": {},
   "outputs": [],
   "source": [
    "#The net total amount of Profit/Losses over the entire period. We will create 3 list\n",
    "total_month = []\n",
    "total_profit = []\n",
    "monthly_profit_change = []"
   ]
  },
  {
   "cell_type": "code",
   "execution_count": 48,
   "id": "008aaf1d-fdb8-4a8e-8d8c-0ca968295737",
   "metadata": {},
   "outputs": [
    {
     "ename": "SyntaxError",
     "evalue": "invalid syntax (<ipython-input-48-14e530713129>, line 2)",
     "output_type": "error",
     "traceback": [
      "\u001b[1;36m  File \u001b[1;32m\"<ipython-input-48-14e530713129>\"\u001b[1;36m, line \u001b[1;32m2\u001b[0m\n\u001b[1;33m    csv_reader = csv/\u001b[0m\n\u001b[1;37m                     ^\u001b[0m\n\u001b[1;31mSyntaxError\u001b[0m\u001b[1;31m:\u001b[0m invalid syntax\n"
     ]
    }
   ],
   "source": [
    "with open(input_file, newline=\"\") as budget:\n",
    "    csv_reader = csv.reader(budget, delimiter=\",\")\n",
    "    header = next(csv_reader)\n",
    "    for row in csvreader:\n",
    "        total_months.append(row[0])\n",
    "        total_profit.append(int(row[1]))"
   ]
  },
  {
   "cell_type": "code",
   "execution_count": null,
   "id": "49261ad7-652a-4fa0-8fa0-f1dc08cab0df",
   "metadata": {},
   "outputs": [],
   "source": []
  }
 ],
 "metadata": {
  "kernelspec": {
   "display_name": "Python 3",
   "language": "python",
   "name": "python3"
  },
  "language_info": {
   "codemirror_mode": {
    "name": "ipython",
    "version": 3
   },
   "file_extension": ".py",
   "mimetype": "text/x-python",
   "name": "python",
   "nbconvert_exporter": "python",
   "pygments_lexer": "ipython3",
   "version": "3.8.5"
  }
 },
 "nbformat": 4,
 "nbformat_minor": 5
}
